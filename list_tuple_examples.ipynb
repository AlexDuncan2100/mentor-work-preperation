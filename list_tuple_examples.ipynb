{
 "cells": [
  {
   "cell_type": "markdown",
   "metadata": {},
   "source": [
    "Create a Python list"
   ]
  },
  {
   "cell_type": "code",
   "execution_count": null,
   "metadata": {},
   "outputs": [],
   "source": [
    "numbers = [10, 20, 30, 40, 50]\n",
    "names = [\"Sara\", \"David\", \"Warner\", \"Sandy\"]\n",
    "student_info = [\"Sara\", 1, \"Chemistry\"]"
   ]
  },
  {
   "cell_type": "code",
   "execution_count": null,
   "metadata": {},
   "outputs": [],
   "source": [
    "my_list2 = ['red', 'blue', 'black', 'white'] # the list contains all string\n",
    "values\n",
    "print(my_list2)\n",
    "['red', 'blue', 'black', 'white']"
   ]
  },
  {
   "cell_type": "code",
   "execution_count": null,
   "metadata": {},
   "outputs": [],
   "source": [
    "color_list1 = [\"White\", \"Yellow\"]\n",
    "color_list2 = [\"Red\", \"Blue\"]\n",
    "color_list3 = [\"Green\", \"Black\"]"
   ]
  },
  {
   "cell_type": "code",
   "execution_count": null,
   "metadata": {
    "tags": []
   },
   "outputs": [],
   "source": [
    "color_list = color_list1 + color_list2 + color_list3\n",
    "print(color_list)"
   ]
  },
  {
   "cell_type": "code",
   "execution_count": null,
   "metadata": {
    "tags": []
   },
   "outputs": [],
   "source": [
    "number = [1,2,3]\n",
    "print(number[0]*4)"
   ]
  },
  {
   "cell_type": "code",
   "execution_count": null,
   "metadata": {},
   "outputs": [],
   "source": [
    "List indices"
   ]
  },
  {
   "cell_type": "code",
   "execution_count": null,
   "metadata": {},
   "outputs": [],
   "source": [
    "color_list=[\"Red\", \"Blue\", \"Green\", \"Black\"]\n",
    "color_list[0]"
   ]
  },
  {
   "cell_type": "code",
   "execution_count": null,
   "metadata": {
    "tags": []
   },
   "outputs": [],
   "source": [
    "print(color_list[0],color_list[3]) # Print First and Last Elements"
   ]
  },
  {
   "cell_type": "code",
   "execution_count": null,
   "metadata": {
    "tags": []
   },
   "outputs": [],
   "source": [
    "color_list.append(\"Yellow\")\n",
    "print(color_list)"
   ]
  },
  {
   "cell_type": "code",
   "execution_count": null,
   "metadata": {},
   "outputs": [],
   "source": [
    "color_list[2]=\"Yellow\"\n"
   ]
  },
  {
   "cell_type": "code",
   "execution_count": null,
   "metadata": {
    "tags": []
   },
   "outputs": [],
   "source": [
    "print(color_list)"
   ]
  },
  {
   "cell_type": "code",
   "execution_count": null,
   "metadata": {},
   "outputs": [],
   "source": [
    "color_list.remove(\"Black\")"
   ]
  },
  {
   "cell_type": "markdown",
   "metadata": {},
   "source": [
    "List Slices"
   ]
  },
  {
   "cell_type": "code",
   "execution_count": null,
   "metadata": {},
   "outputs": [],
   "source": [
    "color_list.clear()"
   ]
  },
  {
   "cell_type": "code",
   "execution_count": null,
   "metadata": {},
   "outputs": [],
   "source": [
    "print(color_list[1:-2])"
   ]
  },
  {
   "cell_type": "code",
   "execution_count": null,
   "metadata": {},
   "outputs": [],
   "source": [
    "print(color_list[1:-1])"
   ]
  },
  {
   "cell_type": "code",
   "execution_count": null,
   "metadata": {},
   "outputs": [],
   "source": [
    "print(color_list[:])"
   ]
  },
  {
   "cell_type": "code",
   "execution_count": null,
   "metadata": {},
   "outputs": [],
   "source": [
    "print(color_list[:3])"
   ]
  },
  {
   "cell_type": "code",
   "execution_count": null,
   "metadata": {},
   "outputs": [],
   "source": [
    "color_list.pop(2)"
   ]
  },
  {
   "cell_type": "code",
   "execution_count": null,
   "metadata": {
    "tags": []
   },
   "outputs": [],
   "source": [
    "print(color_list)"
   ]
  },
  {
   "cell_type": "code",
   "execution_count": null,
   "metadata": {},
   "outputs": [],
   "source": [
    "color_list.index(\"Red\")\n"
   ]
  },
  {
   "cell_type": "code",
   "execution_count": null,
   "metadata": {},
   "outputs": [],
   "source": [
    "color_list.count(\"Blue\")"
   ]
  },
  {
   "cell_type": "code",
   "execution_count": null,
   "metadata": {},
   "outputs": [],
   "source": [
    "color_list.sort(key=None, reverse=False)\n",
    "print(color_list)"
   ]
  },
  {
   "cell_type": "code",
   "execution_count": null,
   "metadata": {
    "tags": []
   },
   "outputs": [],
   "source": [
    "listx=[1, 5, 7, 3, 2, 4, 6]\n",
    "print(listx)\n",
    "[1, 5, 7, 3, 2, 4, 6]\n",
    "sublist=listx[2:7:2]\n",
    "print(sublist)\n",
    "sublist_1=listx[6:2:-2]\n",
    "print(sublist_1)"
   ]
  },
  {
   "cell_type": "code",
   "execution_count": null,
   "metadata": {
    "tags": []
   },
   "outputs": [],
   "source": [
    "listx=[5, 10, 3, 25, 7, 4, 15]\n",
    "print(listx)\n",
    "[5, 10, 3, 25, 7, 4, 15]\n",
    "print(max(listx))\t# the max() function of built-in allows to know the highest\n",
    "print(min(listx)) #the min() function of built-in allows to know the lowest\n"
   ]
  },
  {
   "cell_type": "code",
   "execution_count": null,
   "metadata": {
    "tags": []
   },
   "outputs": [],
   "source": [
    "listx1, listx2=[3, 5, 7, 9], [3, 5, 7, 9]\n",
    "print (listx1 == listx2)\n",
    "listx1, listx2=[9, 7, 5, 3], [3, 5, 7, 9]\t#create two lists equal, but unsorted.\n",
    "print(listx1 == listx2)\n"
   ]
  },
  {
   "cell_type": "markdown",
   "metadata": {},
   "source": [
    "Convert a list to a tuple in Python"
   ]
  },
  {
   "cell_type": "code",
   "execution_count": null,
   "metadata": {
    "tags": []
   },
   "outputs": [],
   "source": [
    "listx = [1, 2, 3, 4]  \n",
    "print(listx)    \n",
    "tuplex = tuple(listx)  \n",
    "print(tuplex)  "
   ]
  },
  {
   "cell_type": "code",
   "execution_count": null,
   "metadata": {
    "tags": []
   },
   "outputs": [],
   "source": [
    "listx = [[\"Hello\", \"World\"], [0, 1, 2, 3, 4, 5]]\n",
    "print(listx)\n",
    "[['Hello', 'World'], [0, 1, 2, 3, 4, 5]]\n",
    "listx = [[\"Hello\", \"World\"], [0, 1, 2, 3, 3, 5]]\n",
    "print(listx)\n",
    "[['Hello', 'World'], [0, 1, 2, 3, 3, 5]]\n",
    "print(listx[0][1])\t\t#The first [] indicates the index of the outer list.\n",
    "print(listx[1][3])"
   ]
  },
  {
   "cell_type": "code",
   "execution_count": null,
   "metadata": {
    "tags": []
   },
   "outputs": [],
   "source": [
    "listy = list(\"HELLO WORLD\")\n",
    "print(listy)"
   ]
  },
  {
   "cell_type": "markdown",
   "metadata": {},
   "source": [
    "TUPLES"
   ]
  },
  {
   "cell_type": "code",
   "execution_count": 29,
   "metadata": {
    "tags": []
   },
   "outputs": [
    {
     "output_type": "stream",
     "name": "stdout",
     "text": "()\n('tuple', False, 3.2, 1)\n(4, 7, 3, 8, 1)\n()\n(True, False)\n"
    },
    {
     "output_type": "execute_result",
     "data": {
      "text/plain": "(True, False)"
     },
     "metadata": {},
     "execution_count": 29
    }
   ],
   "source": [
    "tuplex = ()\n",
    "print (tuplex)\n",
    "tuplex = ('tuple', False, 3.2, 1)\n",
    "print (tuplex)\n",
    "\n",
    "tuplex = 4, 7, 3, 8, 1 \n",
    "print (tuplex)\n",
    "\n",
    "tuplex = tuple()\n",
    "print (tuplex)\n",
    "\n",
    "\n",
    "tuplex = tuple([True, False]) \n",
    "print (tuplex)\n",
    "(True, False)"
   ]
  },
  {
   "cell_type": "code",
   "execution_count": 33,
   "metadata": {
    "tags": []
   },
   "outputs": [
    {
     "output_type": "stream",
     "name": "stdout",
     "text": "('w', 3, 'r', 'e', 's', 'o', 'u', 'r', 'c', 'e')\n"
    }
   ],
   "source": [
    "tuplex = (\"w\", 3, \"r\", \"e\", \"s\", \"o\", \"u\", \"r\", \"c\", \"e\") \n",
    "print(tuplex)"
   ]
  },
  {
   "cell_type": "code",
   "execution_count": 35,
   "metadata": {
    "tags": []
   },
   "outputs": [
    {
     "output_type": "stream",
     "name": "stdout",
     "text": "e\n"
    }
   ],
   "source": [
    "item = tuplex[3]\n",
    "print(item)"
   ]
  },
  {
   "cell_type": "code",
   "execution_count": 37,
   "metadata": {
    "tags": []
   },
   "outputs": [
    {
     "output_type": "stream",
     "name": "stdout",
     "text": "[5, 10, 7, 4, 15, 3]\n"
    }
   ],
   "source": [
    "listx = [5, 10, 7, 4, 15, 3]\n",
    "print(listx)"
   ]
  },
  {
   "cell_type": "code",
   "execution_count": 38,
   "metadata": {
    "tags": []
   },
   "outputs": [
    {
     "output_type": "stream",
     "name": "stdout",
     "text": "(5, 10, 7, 4, 15, 3)\n"
    }
   ],
   "source": [
    "tuplex = tuple(listx)\n",
    "print(tuplex)"
   ]
  },
  {
   "cell_type": "code",
   "execution_count": 39,
   "metadata": {
    "tags": []
   },
   "outputs": [
    {
     "output_type": "stream",
     "name": "stdout",
     "text": "(4, 6, 2, 8, 3, 1, 9)\n"
    }
   ],
   "source": [
    "tuplex = (4, 6, 2, 8, 3, 1) \n",
    "tuplex = tuplex + (9,)\n",
    "print(tuplex)\n",
    "tuplex = tuplex[:5] + (15, 20, 25) + tuplex[:5]\n"
   ]
  },
  {
   "cell_type": "code",
   "execution_count": null,
   "metadata": {},
   "outputs": [],
   "source": []
  }
 ],
 "metadata": {
  "language_info": {
   "codemirror_mode": {
    "name": "ipython",
    "version": 3
   },
   "file_extension": ".py",
   "mimetype": "text/x-python",
   "name": "python",
   "nbconvert_exporter": "python",
   "pygments_lexer": "ipython3",
   "version": "3.7.6-final"
  },
  "orig_nbformat": 2,
  "kernelspec": {
   "name": "python3",
   "display_name": "Python 3"
  }
 },
 "nbformat": 4,
 "nbformat_minor": 2
}